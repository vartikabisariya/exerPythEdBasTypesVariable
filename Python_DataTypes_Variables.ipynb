{
 "cells": [
  {
   "cell_type": "markdown",
   "id": "d427adea",
   "metadata": {
    "deletable": false,
    "editable": false,
    "nbgrader": {
     "cell_type": "markdown",
     "checksum": "742b151ccaefe7ca8b19372a153d8c35",
     "grade": false,
     "grade_id": "cell-391ad82e26ad2d29",
     "locked": true,
     "schema_version": 3,
     "solution": false,
     "task": false
    }
   },
   "source": [
    "### Instructions\n",
    "\n",
    "* Sign up for the free course on Educative, __Learn Python 3 From Scratch__\n",
    "* https://www.educative.io/courses/learn-python-3-from-scratch\n",
    "* Complete the programming exercises below as you go through the course.\n",
    "* Delete or comment out the line of code in each cell which says `raise NotImplementedError()` and replace it with your own."
   ]
  },
  {
   "cell_type": "markdown",
   "id": "9b741610",
   "metadata": {
    "deletable": false,
    "editable": false,
    "nbgrader": {
     "cell_type": "markdown",
     "checksum": "2da0df50bce4c1cf6f85a1f84f365b95",
     "grade": false,
     "grade_id": "cell-866864990e3a9d6e",
     "locked": true,
     "schema_version": 3,
     "solution": false,
     "task": false
    }
   },
   "source": [
    "# Educative - Data Types and Variables\n",
    "\n",
    "https://www.educative.io/courses/learn-python-3-from-scratch/BnxqV56jvjx"
   ]
  },
  {
   "cell_type": "markdown",
   "id": "8ac982fa",
   "metadata": {
    "deletable": false,
    "editable": false,
    "nbgrader": {
     "cell_type": "markdown",
     "checksum": "29282932878a50ed64e46ed434f331d2",
     "grade": false,
     "grade_id": "cell-d7d3b82940617ff2",
     "locked": true,
     "schema_version": 3,
     "solution": false,
     "task": false
    }
   },
   "source": [
    "Write code in the cell below to create a snake case variable name and assign it the value of 10."
   ]
  },
  {
   "cell_type": "code",
   "execution_count": 2,
   "id": "52397224",
   "metadata": {
    "deletable": false,
    "nbgrader": {
     "cell_type": "code",
     "checksum": "cbf7a3bae22fbe3726306c2223ee6a4e",
     "grade": true,
     "grade_id": "cell-761fb81a84d7a23d",
     "locked": false,
     "points": 1,
     "schema_version": 3,
     "solution": true,
     "task": false
    }
   },
   "outputs": [
    {
     "name": "stdout",
     "output_type": "stream",
     "text": [
      "snake_case_variable\n"
     ]
    }
   ],
   "source": [
    "\n",
    "# YOUR CODE HERE\n",
    "snake_case_variable = 10\n",
    "print (\"snake_case_variable\")"
   ]
  },
  {
   "cell_type": "markdown",
   "id": "d98810a2",
   "metadata": {
    "deletable": false,
    "editable": false,
    "nbgrader": {
     "cell_type": "markdown",
     "checksum": "736a64181e554b757eb161b364a5b3c1",
     "grade": false,
     "grade_id": "cell-d59c6163b889f59c",
     "locked": true,
     "schema_version": 3,
     "solution": false,
     "task": false
    }
   },
   "source": [
    "Write code in the cell below to create an integer variable."
   ]
  },
  {
   "cell_type": "code",
   "execution_count": 3,
   "id": "9d0ff161",
   "metadata": {
    "deletable": false,
    "nbgrader": {
     "cell_type": "code",
     "checksum": "9b11e598c2d9b5914696d2254b5c4aab",
     "grade": true,
     "grade_id": "cell-396125cff54505d8",
     "locked": false,
     "points": 1,
     "schema_version": 3,
     "solution": true,
     "task": false
    }
   },
   "outputs": [
    {
     "name": "stdout",
     "output_type": "stream",
     "text": [
      "integer\n"
     ]
    }
   ],
   "source": [
    "\n",
    "# YOUR CODE HERE\n",
    "integer = 2\n",
    "print (\"integer\")"
   ]
  },
  {
   "cell_type": "markdown",
   "id": "2080d0c3",
   "metadata": {
    "deletable": false,
    "editable": false,
    "nbgrader": {
     "cell_type": "markdown",
     "checksum": "6d4079781229836e463778deaa8bb99e",
     "grade": false,
     "grade_id": "cell-b6d37869a80bd96f",
     "locked": true,
     "schema_version": 3,
     "solution": false,
     "task": false
    }
   },
   "source": [
    "Write code in the cell below to create a floating point variable."
   ]
  },
  {
   "cell_type": "code",
   "execution_count": 20,
   "id": "6f07e58d",
   "metadata": {
    "deletable": false,
    "nbgrader": {
     "cell_type": "code",
     "checksum": "2715e70ca8eedc2fbd450ca3ffcc22ba",
     "grade": true,
     "grade_id": "cell-d2912c074866d9d3",
     "locked": false,
     "points": 1,
     "schema_version": 3,
     "solution": true,
     "task": false
    }
   },
   "outputs": [
    {
     "name": "stdout",
     "output_type": "stream",
     "text": [
      "2.5\n"
     ]
    }
   ],
   "source": [
    "# YOUR CODE HERE\n",
    "X = 2.5\n",
    "print (X)"
   ]
  },
  {
   "cell_type": "markdown",
   "id": "33fd9739",
   "metadata": {
    "deletable": false,
    "editable": false,
    "nbgrader": {
     "cell_type": "markdown",
     "checksum": "8bd9add54d09f99e700291edc7f25a65",
     "grade": false,
     "grade_id": "cell-119ea5d605f6edd8",
     "locked": true,
     "schema_version": 3,
     "solution": false,
     "task": false
    }
   },
   "source": [
    "Write code in the cell below to create a boolean variable and assign it an appropriate value."
   ]
  },
  {
   "cell_type": "code",
   "execution_count": 5,
   "id": "7fbccad3",
   "metadata": {
    "deletable": false,
    "nbgrader": {
     "cell_type": "code",
     "checksum": "c29d30f80368f9c549d4ddf0b2ca6ad9",
     "grade": true,
     "grade_id": "cell-af54f2888b2c727e",
     "locked": false,
     "points": 1,
     "schema_version": 3,
     "solution": true,
     "task": false
    }
   },
   "outputs": [
    {
     "name": "stdout",
     "output_type": "stream",
     "text": [
      "False\n"
     ]
    }
   ],
   "source": [
    "# YOUR CODE HERE\n",
    "A_bool = False\n",
    "print(A_bool)"
   ]
  },
  {
   "cell_type": "markdown",
   "id": "6441ed88",
   "metadata": {
    "deletable": false,
    "editable": false,
    "nbgrader": {
     "cell_type": "markdown",
     "checksum": "4fba16b60362bd8836f43c75fc5ba38c",
     "grade": false,
     "grade_id": "cell-4ce716f45e010bf9",
     "locked": true,
     "schema_version": 3,
     "solution": false,
     "task": false
    }
   },
   "source": [
    "Write code in the cell below to create a string variable."
   ]
  },
  {
   "cell_type": "code",
   "execution_count": 21,
   "id": "1bb7f4a7",
   "metadata": {
    "deletable": false,
    "nbgrader": {
     "cell_type": "code",
     "checksum": "f56e3e26741187c34a26f3b4bb0e70d1",
     "grade": true,
     "grade_id": "cell-5335282ac8e23828",
     "locked": false,
     "points": 1,
     "schema_version": 3,
     "solution": true,
     "task": false
    }
   },
   "outputs": [
    {
     "name": "stdout",
     "output_type": "stream",
     "text": [
      "utah\n"
     ]
    }
   ],
   "source": [
    "# YOUR CODE HERE\n",
    "A = 'utah'\n",
    "print(A)"
   ]
  },
  {
   "cell_type": "markdown",
   "id": "271fbba2",
   "metadata": {
    "deletable": false,
    "editable": false,
    "nbgrader": {
     "cell_type": "markdown",
     "checksum": "f47f60c2519bbbc7d823fb1e9abfc092",
     "grade": false,
     "grade_id": "cell-81b798894dad2560",
     "locked": true,
     "schema_version": 3,
     "solution": false,
     "task": false
    }
   },
   "source": [
    "Write code in the cell below to print the length of the given string variable."
   ]
  },
  {
   "cell_type": "code",
   "execution_count": 7,
   "id": "761b7a69",
   "metadata": {
    "deletable": false,
    "nbgrader": {
     "cell_type": "code",
     "checksum": "8a42c93c662715e1a87ddb21e3954a9c",
     "grade": true,
     "grade_id": "cell-bc1b2e67e758bc5a",
     "locked": false,
     "points": 1,
     "schema_version": 3,
     "solution": true,
     "task": false
    }
   },
   "outputs": [
    {
     "name": "stdout",
     "output_type": "stream",
     "text": [
      "11\n"
     ]
    }
   ],
   "source": [
    "random_string = \"I am Batman\"  # 11 characters\n",
    "\n",
    "# YOUR CODE HERE\n",
    "print(len(random_string))"
   ]
  },
  {
   "cell_type": "markdown",
   "id": "05ed514a",
   "metadata": {
    "deletable": false,
    "editable": false,
    "nbgrader": {
     "cell_type": "markdown",
     "checksum": "18610b4e92c9fe339f27838b076b4f6b",
     "grade": false,
     "grade_id": "cell-1d6e95db84984faf",
     "locked": true,
     "schema_version": 3,
     "solution": false,
     "task": false
    }
   },
   "source": [
    "Write code in the cell below to print a slice of the string which includes the first four characters."
   ]
  },
  {
   "cell_type": "code",
   "execution_count": 8,
   "id": "3a8d1311",
   "metadata": {
    "deletable": false,
    "nbgrader": {
     "cell_type": "code",
     "checksum": "0d9863f703610543f3390b3536811f9e",
     "grade": true,
     "grade_id": "cell-1792d01dd2bc1d02",
     "locked": false,
     "points": 1,
     "schema_version": 3,
     "solution": true,
     "task": false
    }
   },
   "outputs": [
    {
     "name": "stdout",
     "output_type": "stream",
     "text": [
      "This\n"
     ]
    }
   ],
   "source": [
    "my_string = \"This is MY string!\"\n",
    "\n",
    "# YOUR CODE HERE\n",
    "print(my_string[0:4])"
   ]
  },
  {
   "cell_type": "markdown",
   "id": "7626ddde",
   "metadata": {
    "deletable": false,
    "editable": false,
    "nbgrader": {
     "cell_type": "markdown",
     "checksum": "58093f80c1a1406f825b3369de4fee20",
     "grade": false,
     "grade_id": "cell-273a10b2eeb9bb21",
     "locked": true,
     "schema_version": 3,
     "solution": false,
     "task": false
    }
   },
   "source": [
    "Write code in the cell below to print the sum of the two variables using the addition operator."
   ]
  },
  {
   "cell_type": "code",
   "execution_count": 9,
   "id": "e0d690be",
   "metadata": {
    "deletable": false,
    "nbgrader": {
     "cell_type": "code",
     "checksum": "3503798d55b5c1d5b0bebb53dbc8fbac",
     "grade": true,
     "grade_id": "cell-f5331b4cce28e8db",
     "locked": false,
     "points": 1,
     "schema_version": 3,
     "solution": true,
     "task": false
    }
   },
   "outputs": [
    {
     "name": "stdout",
     "output_type": "stream",
     "text": [
      "30.5\n"
     ]
    }
   ],
   "source": [
    "num = 20\n",
    "flt = 10.5\n",
    "\n",
    "# YOUR CODE HERE\n",
    "print (num + flt)"
   ]
  },
  {
   "cell_type": "markdown",
   "id": "91ffdea0",
   "metadata": {
    "deletable": false,
    "editable": false,
    "nbgrader": {
     "cell_type": "markdown",
     "checksum": "8394a654da5322b5b8cdd0b40fc9c0d6",
     "grade": false,
     "grade_id": "cell-9ed29caf03aa9fc7",
     "locked": true,
     "schema_version": 3,
     "solution": false,
     "task": false
    }
   },
   "source": [
    "Write code in the cell below to print the product of the two variables using the multiplication operator."
   ]
  },
  {
   "cell_type": "code",
   "execution_count": 10,
   "id": "e1560b4f",
   "metadata": {
    "deletable": false,
    "nbgrader": {
     "cell_type": "code",
     "checksum": "587ca1a170c5bd2880bc727667b30a7a",
     "grade": true,
     "grade_id": "cell-3f3cd8490abf38ae",
     "locked": false,
     "points": 1,
     "schema_version": 3,
     "solution": true,
     "task": false
    }
   },
   "outputs": [
    {
     "name": "stdout",
     "output_type": "stream",
     "text": [
      "210.0\n"
     ]
    }
   ],
   "source": [
    "num = 20\n",
    "flt = 10.5\n",
    "\n",
    "# YOUR CODE HERE\n",
    "print (num * flt)"
   ]
  },
  {
   "cell_type": "markdown",
   "id": "fd367b13",
   "metadata": {
    "deletable": false,
    "editable": false,
    "nbgrader": {
     "cell_type": "markdown",
     "checksum": "5a5fc54c7da72acd26cd7b14636f963e",
     "grade": false,
     "grade_id": "cell-6eebe319920d444c",
     "locked": true,
     "schema_version": 3,
     "solution": false,
     "task": false
    }
   },
   "source": [
    "Write code in the cell below to print the result rounded down to the nearest smaller integer by dividing one variable by the other using the floor division operator."
   ]
  },
  {
   "cell_type": "code",
   "execution_count": 11,
   "id": "cccfd5b6",
   "metadata": {
    "deletable": false,
    "nbgrader": {
     "cell_type": "code",
     "checksum": "ca20418761d0fe4b7ddda801d288044a",
     "grade": true,
     "grade_id": "cell-b6effb3471f75209",
     "locked": false,
     "points": 1,
     "schema_version": 3,
     "solution": true,
     "task": false
    }
   },
   "outputs": [
    {
     "name": "stdout",
     "output_type": "stream",
     "text": [
      "1.0\n"
     ]
    }
   ],
   "source": [
    "num = 20\n",
    "flt = 10.5\n",
    "\n",
    "# YOUR CODE HERE\n",
    "print (num // flt)"
   ]
  },
  {
   "cell_type": "markdown",
   "id": "2730ad5b",
   "metadata": {
    "deletable": false,
    "editable": false,
    "nbgrader": {
     "cell_type": "markdown",
     "checksum": "2372fd8cfdbe649f53ebd380f2b728ea",
     "grade": false,
     "grade_id": "cell-ad12b2ab1118a768",
     "locked": true,
     "schema_version": 3,
     "solution": false,
     "task": false
    }
   },
   "source": [
    "Write code in the cell below to print the remainder when dividing one variable by the other using the modulo operator."
   ]
  },
  {
   "cell_type": "code",
   "execution_count": 12,
   "id": "9ba57ac6",
   "metadata": {
    "deletable": false,
    "nbgrader": {
     "cell_type": "code",
     "checksum": "cd6e1e15e35ad4b9e0db315e8f1f9a65",
     "grade": true,
     "grade_id": "cell-b4d1e8b1c4a837ec",
     "locked": false,
     "points": 1,
     "schema_version": 3,
     "solution": true,
     "task": false
    }
   },
   "outputs": [
    {
     "name": "stdout",
     "output_type": "stream",
     "text": [
      "9.5\n"
     ]
    }
   ],
   "source": [
    "num = 20\n",
    "flt = 10.5\n",
    "\n",
    "# YOUR CODE HERE\n",
    "print (num % flt)"
   ]
  },
  {
   "cell_type": "markdown",
   "id": "acc56b4e",
   "metadata": {
    "deletable": false,
    "editable": false,
    "nbgrader": {
     "cell_type": "markdown",
     "checksum": "d61535c40b94fcff26ebd39f14edf57d",
     "grade": false,
     "grade_id": "cell-4b8d6facc0f396ce",
     "locked": true,
     "schema_version": 3,
     "solution": false,
     "task": false
    }
   },
   "source": [
    "Write code in the cell below to print the result of comparing num1 to num2 using the greater than, less than, equal to, and not equal to operators."
   ]
  },
  {
   "cell_type": "code",
   "execution_count": 22,
   "id": "b9bae71f",
   "metadata": {
    "deletable": false,
    "nbgrader": {
     "cell_type": "code",
     "checksum": "54365f4ef64f871901d7531d65262db2",
     "grade": true,
     "grade_id": "cell-e19e82aa1c3cf0d9",
     "locked": false,
     "points": 1,
     "schema_version": 3,
     "solution": true,
     "task": false
    }
   },
   "outputs": [
    {
     "name": "stdout",
     "output_type": "stream",
     "text": [
      "True\n",
      "False\n",
      "False\n",
      "True\n"
     ]
    }
   ],
   "source": [
    "num1 = 5\n",
    "num2 = 10\n",
    "\n",
    "# YOUR CODE HERE\n",
    "print(num2 > num1)\n",
    "print(num2 < num1)\n",
    "print(num2 == num1)\n",
    "print(num2 != num1)\n"
   ]
  },
  {
   "cell_type": "markdown",
   "id": "098cb888",
   "metadata": {
    "deletable": false,
    "editable": false,
    "nbgrader": {
     "cell_type": "markdown",
     "checksum": "a98fe5d22046b8c7c3065a609d6c2cfe",
     "grade": false,
     "grade_id": "cell-6978262182c9294c",
     "locked": true,
     "schema_version": 3,
     "solution": false,
     "task": false
    }
   },
   "source": [
    "Write code in the cell below to print the value for num1. \n",
    "\n",
    "Add 10 to num1 using the add and assign operator, and print the new value for num1."
   ]
  },
  {
   "cell_type": "code",
   "execution_count": 14,
   "id": "4c838653",
   "metadata": {
    "deletable": false,
    "nbgrader": {
     "cell_type": "code",
     "checksum": "605f092f14deacc820a0a2c29fa466fc",
     "grade": true,
     "grade_id": "cell-6f15b764a48c59fb",
     "locked": false,
     "points": 1,
     "schema_version": 3,
     "solution": true,
     "task": false
    }
   },
   "outputs": [
    {
     "name": "stdout",
     "output_type": "stream",
     "text": [
      "15\n"
     ]
    }
   ],
   "source": [
    "num1 = 5\n",
    "\n",
    "# YOUR CODE HERE\n",
    "print (num1 + 10)\n"
   ]
  },
  {
   "cell_type": "markdown",
   "id": "3e57efe8",
   "metadata": {
    "deletable": false,
    "editable": false,
    "nbgrader": {
     "cell_type": "markdown",
     "checksum": "ad0356b77cb43ee2bfcdc30e5248775f",
     "grade": false,
     "grade_id": "cell-52f2061e79a35cf8",
     "locked": true,
     "schema_version": 3,
     "solution": false,
     "task": false
    }
   },
   "source": [
    "Write code in the cell below to print the result for each of the boolean expressions below which use the comparison operators `or`, `and`, and `not`."
   ]
  },
  {
   "cell_type": "code",
   "execution_count": 23,
   "id": "7fa9376b",
   "metadata": {
    "deletable": false,
    "nbgrader": {
     "cell_type": "code",
     "checksum": "1891bf59cdd22f85de48a5a02d6eae44",
     "grade": true,
     "grade_id": "cell-8b3f949c8b00c81c",
     "locked": false,
     "points": 1,
     "schema_version": 3,
     "solution": true,
     "task": false
    }
   },
   "outputs": [
    {
     "name": "stdout",
     "output_type": "stream",
     "text": [
      "True\n",
      "False\n"
     ]
    }
   ],
   "source": [
    "# OR Expression\n",
    "my_bool1 = True or False\n",
    "\n",
    "# AND Expression\n",
    "my_bool2 = True and False\n",
    "\n",
    "# NOT expression\n",
    "my_bool3 = False\n",
    "\n",
    "# YOUR CODE HERE\n",
    "print (my_bool1)\n",
    "print (my_bool2)"
   ]
  },
  {
   "cell_type": "markdown",
   "id": "c605d1e8",
   "metadata": {
    "deletable": false,
    "editable": false,
    "nbgrader": {
     "cell_type": "markdown",
     "checksum": "eee7dc82d613f6d2dd80e394b5fdd4d0",
     "grade": false,
     "grade_id": "cell-f688292300a740e5",
     "locked": true,
     "schema_version": 3,
     "solution": false,
     "task": false
    }
   },
   "source": [
    "Run the code in the cell below and add end line comments on each print statement describing the results of the comparison."
   ]
  },
  {
   "cell_type": "code",
   "execution_count": 16,
   "id": "4464a8f8",
   "metadata": {
    "deletable": false,
    "nbgrader": {
     "cell_type": "code",
     "checksum": "148d05b54ad5f8687971541bfd24a87e",
     "grade": true,
     "grade_id": "cell-a97efd78e3049120",
     "locked": false,
     "points": 2,
     "schema_version": 3,
     "solution": true,
     "task": false
    }
   },
   "outputs": [
    {
     "name": "stdout",
     "output_type": "stream",
     "text": [
      "True\n",
      "True\n",
      "False\n",
      "False\n",
      "True\n"
     ]
    }
   ],
   "source": [
    "print('a' < 'b')  #a is less than b\n",
    "\n",
    "house = \"Gryffindor\"\n",
    "house_copy = \"Gryffindor\"\n",
    "\n",
    "print(house == house_copy) # both variable are equal\n",
    "\n",
    "new_house = \"Slytherin\"\n",
    "\n",
    "print(house == new_house) #it is true\n",
    "\n",
    "print(new_house <= house) # we do not know this\n",
    "\n",
    "print(new_house >= house) # we do not know this\n",
    "\n",
    "# YOUR CODE HERE\n"
   ]
  },
  {
   "cell_type": "markdown",
   "id": "31e0c61e",
   "metadata": {
    "deletable": false,
    "editable": false,
    "nbgrader": {
     "cell_type": "markdown",
     "checksum": "df5af7b70c577a22dedbfd2822cac93a",
     "grade": false,
     "grade_id": "cell-237f2cae3dab82f7",
     "locked": true,
     "schema_version": 3,
     "solution": false,
     "task": false
    }
   },
   "source": [
    "Write code in the cell below to create a new variable called `full_name`. \n",
    "\n",
    "Concatenate the given string variables in order using the addition operator.\n",
    "\n",
    "Print the new variable. "
   ]
  },
  {
   "cell_type": "code",
   "execution_count": 17,
   "id": "44f985df",
   "metadata": {
    "deletable": false,
    "nbgrader": {
     "cell_type": "code",
     "checksum": "7054a94ec843adcafa4f944e974ae76f",
     "grade": true,
     "grade_id": "cell-327314a29d357cf1",
     "locked": false,
     "points": 1,
     "schema_version": 3,
     "solution": true,
     "task": false
    }
   },
   "outputs": [
    {
     "name": "stdout",
     "output_type": "stream",
     "text": [
      "Batman\n"
     ]
    }
   ],
   "source": [
    "first_half = \"Bat\"\n",
    "second_half = \"man\"\n",
    "\n",
    "# YOUR CODE HERE\n",
    "full_name = first_half + second_half\n",
    "print(full_name)"
   ]
  },
  {
   "cell_type": "markdown",
   "id": "9322de7d",
   "metadata": {
    "deletable": false,
    "editable": false,
    "nbgrader": {
     "cell_type": "markdown",
     "checksum": "d9ac8957ab32b13b2deaa4c261a54507",
     "grade": false,
     "grade_id": "cell-215ea0f3a819d34b",
     "locked": true,
     "schema_version": 3,
     "solution": false,
     "task": false
    }
   },
   "source": [
    "Write code in the cell below which uses the `in` keyword to search for the word `eye` in the string below and print the result."
   ]
  },
  {
   "cell_type": "code",
   "execution_count": 18,
   "id": "201c4eac",
   "metadata": {
    "deletable": false,
    "nbgrader": {
     "cell_type": "code",
     "checksum": "bbbceba258bff97bf15808188deda4da",
     "grade": true,
     "grade_id": "cell-bf5323c2829cbd36",
     "locked": false,
     "points": 1,
     "schema_version": 3,
     "solution": true,
     "task": false
    }
   },
   "outputs": [
    {
     "name": "stdout",
     "output_type": "stream",
     "text": [
      "False\n"
     ]
    }
   ],
   "source": [
    "string1 = \"There's no i in team.\"\n",
    "\n",
    "# YOUR CODE HERE\n",
    "print('eye' in string1)"
   ]
  },
  {
   "cell_type": "markdown",
   "id": "14c35af0",
   "metadata": {
    "deletable": false,
    "editable": false,
    "nbgrader": {
     "cell_type": "markdown",
     "checksum": "852e8a2bb4b10d7df1ee5b592c449c65",
     "grade": false,
     "grade_id": "cell-2adf80bb6c66e619",
     "locked": true,
     "schema_version": 3,
     "solution": false,
     "task": false
    }
   },
   "source": [
    "Write code in the cell below which creates a list with the following items [1, 2.5, \"A string\", True] and print the list."
   ]
  },
  {
   "cell_type": "code",
   "execution_count": 19,
   "id": "da4a840a",
   "metadata": {
    "deletable": false,
    "nbgrader": {
     "cell_type": "code",
     "checksum": "754feb743fb967025838a755dffe3682",
     "grade": true,
     "grade_id": "cell-55e5d4419692d20b",
     "locked": false,
     "points": 1,
     "schema_version": 3,
     "solution": true,
     "task": false
    }
   },
   "outputs": [
    {
     "name": "stdout",
     "output_type": "stream",
     "text": [
      "[1, 2.5, 'A string', True]\n"
     ]
    }
   ],
   "source": [
    "\n",
    "# YOUR CODE HERE\n",
    "random_list = [1, 2.5, \"A string\", True]\n",
    "print(random_list)"
   ]
  },
  {
   "cell_type": "markdown",
   "id": "1da40a38",
   "metadata": {
    "deletable": false,
    "editable": false,
    "nbgrader": {
     "cell_type": "markdown",
     "checksum": "81a3d63775bc8bb0dcc3c831efddeccf",
     "grade": false,
     "grade_id": "cell-c59518ae4bf7629e",
     "locked": true,
     "schema_version": 3,
     "solution": false,
     "task": false
    }
   },
   "source": [
    "Write code in the cell below to print the length of your list."
   ]
  },
  {
   "cell_type": "code",
   "execution_count": 1,
   "id": "b4adbac0",
   "metadata": {
    "deletable": false,
    "nbgrader": {
     "cell_type": "code",
     "checksum": "b9c5edcfd225a444a456042a3e693633",
     "grade": true,
     "grade_id": "cell-d6f7000d69530aa2",
     "locked": false,
     "points": 1,
     "schema_version": 3,
     "solution": true,
     "task": false
    }
   },
   "outputs": [
    {
     "name": "stdout",
     "output_type": "stream",
     "text": [
      "4\n"
     ]
    }
   ],
   "source": [
    "random_list = [1, 2.5, \"A string\", True]\n",
    "# YOUR CODE HERE\n",
    "print (len (random_list))"
   ]
  },
  {
   "cell_type": "code",
   "execution_count": null,
   "id": "7f7ebbf2",
   "metadata": {},
   "outputs": [],
   "source": []
  }
 ],
 "metadata": {
  "kernelspec": {
   "display_name": "Python 3 (ipykernel)",
   "language": "python",
   "name": "python3"
  },
  "language_info": {
   "codemirror_mode": {
    "name": "ipython",
    "version": 3
   },
   "file_extension": ".py",
   "mimetype": "text/x-python",
   "name": "python",
   "nbconvert_exporter": "python",
   "pygments_lexer": "ipython3",
   "version": "3.9.12"
  }
 },
 "nbformat": 4,
 "nbformat_minor": 5
}
